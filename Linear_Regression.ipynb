{
 "cells": [
  {
   "cell_type": "code",
   "execution_count": 43,
   "metadata": {},
   "outputs": [
    {
     "name": "stdout",
     "output_type": "stream",
     "text": [
      "slope: [0.54]\n",
      "intercept: 5.633333333333329\n",
      "(new_x, new_y): [[5]] [8.33333333]\n"
     ]
    }
   ],
   "source": [
    "# Linear Regression\n",
    "# used to create Y = m * X + c, we predict (m, c)\n",
    "# Step1: Creat a excel with X, Y values in two differenct columns\n",
    "# Ex:  X , Y\n",
    "#      1 , 2\n",
    "#      3 , 4\n",
    "#      5 , 6\n",
    "#      7 , 8\n",
    "#      9 , 10\n",
    "# Step2: Upload the cvs and wait for the Machine to Learn\n",
    "# Step3: Test: enter your own X values and get Y predicted value\n",
    "from sklearn.linear_model import LinearRegression\n",
    "import numpy as np\n",
    "import pandas as pd\n",
    "\n",
    "data = pd.read_csv(\"test_data\\\\test_1.csv\")\n",
    "x = np.array(data['X']).reshape((-1,1))\n",
    "y = np.array(data['Y'])\n",
    "\n",
    "model = LinearRegression() #create linear regression model\n",
    "model.fit(x,y) #train / fit the model\n",
    "\n",
    "#Model parameters\n",
    "print('slope:', model.coef_)\n",
    "print('intercept:', model.intercept_)\n",
    "\n",
    "x_pred = np.array(5).reshape((-1,1))\n",
    "y_pred = model.predict(x_pred)\n",
    "print('(new_x, new_y):', x_pred, y_pred)"
   ]
  },
  {
   "cell_type": "code",
   "execution_count": 63,
   "metadata": {},
   "outputs": [
    {
     "name": "stdout",
     "output_type": "stream",
     "text": [
      "coefficents: [0.44706965 0.25502548]\n",
      "intercept: 5.52257927519819\n",
      "[6.22467441]\n"
     ]
    }
   ],
   "source": [
    "# Multi-variable regression\n",
    "# used to create Y = a * X1 + b * X2 + c, we predict (m, c)\n",
    "# Step1: Creat a excel with X, Y values in two differenct columns\n",
    "# Ex:  X1, X2,   Y\n",
    "#       0,  1,   4\n",
    "#       5,  1,   5\n",
    "#      15,  2,  20\n",
    "#      25,  5,  14\n",
    "#      35, 11,  32\n",
    "#      45, 15,  22\n",
    "#      55, 34,  38\n",
    "#      60, 35,  43\n",
    "# Step2: Upload the cvs and wait for the Machine to Learn\n",
    "# Step3: Test: enter your own X1,X2 values and get Y predicted value\n",
    "\n",
    "import numpy as np\n",
    "from sklearn.linear_model import LinearRegression\n",
    "\n",
    "import pandas as pd\n",
    "\n",
    "data = pd.read_csv(\"test_data\\\\test_2.csv\")\n",
    "x1 = np.array(data['X1']).reshape(-1,1)\n",
    "x2 = np.array(data['X2']).reshape(-1,1)\n",
    "x = np.concatenate((x1, x2), axis=1)\n",
    "y = np.array(data['Y'])\n",
    "\n",
    "\n",
    "model = LinearRegression().fit(x,y)\n",
    "\n",
    "print(\"coefficents:\", model.coef_)\n",
    "print(\"intercept:\", model.intercept_)\n",
    "\n",
    "x_pred = np.array([[1, 1]])\n",
    "y_pred = model.predict(x_pred)\n",
    "\n",
    "print(y_pred)"
   ]
  },
  {
   "cell_type": "code",
   "execution_count": 67,
   "metadata": {},
   "outputs": [
    {
     "name": "stdout",
     "output_type": "stream",
     "text": [
      "coefficients: [-1.32357143  0.02839286]\n",
      "intercept: 21.372321428571425\n"
     ]
    }
   ],
   "source": [
    "# High order / Polynomial Regression\n",
    "\n",
    "# used to create Y = a * X1 + b * X2 + c, we predict (m, c)\n",
    "# Step1: Creat a excel with X, Y values in two differenct columns\n",
    "# Ex:   X,  Y\n",
    "#       5,  15\n",
    "#      15,  11\n",
    "#      25,   2\n",
    "#      35,   8\n",
    "#      45,  25\n",
    "#      55,  32\n",
    "# Step2: Upload the cvs and wait for the Machine to Learn\n",
    "# Step3: Test: enter your own X1,X2 values and get Y predicted value\n",
    "\n",
    "import numpy as np\n",
    "from sklearn.linear_model import LinearRegression\n",
    "from sklearn.preprocessing import PolynomialFeatures\n",
    "\n",
    "import pandas as pd\n",
    "\n",
    "data = pd.read_csv(\"test_data\\\\test_3.csv\")\n",
    "x = np.array(data['X']).reshape((-1,1))\n",
    "y = np.array(data['Y'])\n",
    "\n",
    "# add columms for x, x2, x3 ... etc as neccessary\n",
    "transformer = PolynomialFeatures(degree=2, include_bias=False)\n",
    "transformer.fit(x)\n",
    "\n",
    "x_trans = transformer.transform(x)\n",
    "\n",
    "# Use Linear Regression\n",
    "model = LinearRegression().fit(x_trans, y)\n",
    "\n",
    "\n",
    "# Model parameters\n",
    "print(\"coefficients:\", model.coef_)\n",
    "print(\"intercept:\", model.intercept_)\n",
    "\n",
    "\n"
   ]
  },
  {
   "cell_type": "code",
   "execution_count": null,
   "metadata": {},
   "outputs": [],
   "source": []
  }
 ],
 "metadata": {
  "kernelspec": {
   "display_name": "Python 3",
   "language": "python",
   "name": "python3"
  },
  "language_info": {
   "codemirror_mode": {
    "name": "ipython",
    "version": 3
   },
   "file_extension": ".py",
   "mimetype": "text/x-python",
   "name": "python",
   "nbconvert_exporter": "python",
   "pygments_lexer": "ipython3",
   "version": "3.7.4"
  }
 },
 "nbformat": 4,
 "nbformat_minor": 2
}
